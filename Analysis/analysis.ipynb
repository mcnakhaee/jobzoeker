{
 "cells": [
  {
   "cell_type": "code",
   "execution_count": 1,
   "id": "e427191a-8d49-48e9-881f-bde50150ec1f",
   "metadata": {},
   "outputs": [],
   "source": [
    "import pandas as pd"
   ]
  },
  {
   "cell_type": "code",
   "execution_count": 32,
   "id": "8e448284-09a7-45e3-9ecc-2b687fd7b8b9",
   "metadata": {},
   "outputs": [],
   "source": [
    "import time\n",
    "from jobspy import scrape_jobs\n",
    "import pandas as pd\n",
    "search_terms = ['r']\n",
    "# Indeed\n",
    "df_jobs = []\n",
    "old_data = pd.read_csv('../jobs.csv')\n",
    "\n",
    "\n",
    "def collect_data():\n",
    "    for search_term in search_terms:\n",
    "        jobs = scrape_jobs(\n",
    "            site_name=[\"indeed\"],\n",
    "            search_term=search_term,\n",
    "            location=\"Netherlands\",\n",
    "            results_wanted=30,\n",
    "            country_indeed='Netherlands'  # only needed for indeed / glassdoor\n",
    "        )\n",
    "        jobs['search_term'] = search_term\n",
    "        df_jobs.append(jobs)\n",
    "        time.sleep(10)\n",
    "\n",
    "    # Linkedin\n",
    "    for search_term in search_terms:\n",
    "        jobs = scrape_jobs(\n",
    "            site_name=[\"linkedin\"],\n",
    "            search_term=search_term,\n",
    "            location=\"Netherlands\",\n",
    "            results_wanted=30,\n",
    "            country_indeed='Netherlands'  # only needed for indeed / glassdoor\n",
    "        )\n",
    "        jobs['search_term'] = search_term\n",
    "        df_jobs.append(jobs)\n",
    "        time.sleep(10)\n",
    "\n",
    "    dfs = df_jobs.append(old_data)\n",
    "    merged_df = pd.concat(dfs, ignore_index=True)\n",
    "    merged_df\n"
   ]
  },
  {
   "cell_type": "code",
   "execution_count": 34,
   "id": "8811eb69-4a6b-45e7-9455-ae073c25a5e5",
   "metadata": {},
   "outputs": [],
   "source": [
    "    for search_term in search_terms:\n",
    "        jobs = scrape_jobs(\n",
    "            site_name=[\"indeed\"],\n",
    "            search_term=search_term,\n",
    "            location=\"Netherlands\",\n",
    "            results_wanted=30,\n",
    "            country_indeed='Netherlands'  # only needed for indeed / glassdoor\n",
    "        )\n",
    "        jobs['search_term'] = search_term\n",
    "        df_jobs.append(jobs)\n",
    "        time.sleep(10)\n",
    "\n",
    "    # Linkedin\n",
    "    for search_term in search_terms:\n",
    "        jobs = scrape_jobs(\n",
    "            site_name=[\"linkedin\"],\n",
    "            search_term=search_term,\n",
    "            location=\"Netherlands\",\n",
    "            results_wanted=30,\n",
    "            country_indeed='Netherlands'  # only needed for indeed / glassdoor\n",
    "        )\n",
    "        jobs['search_term'] = search_term\n",
    "        df_jobs.append(jobs)\n",
    "        time.sleep(10)"
   ]
  },
  {
   "cell_type": "code",
   "execution_count": 37,
   "id": "0a29edd8-f0e5-4e37-90f7-af6d9e392192",
   "metadata": {},
   "outputs": [],
   "source": [
    "merged_df = pd.concat(df_jobs, ignore_index=True)"
   ]
  },
  {
   "cell_type": "code",
   "execution_count": 39,
   "id": "70e4d330-3fbc-48a3-a48e-c4f9866028ed",
   "metadata": {},
   "outputs": [
    {
     "ename": "AttributeError",
     "evalue": "'DataFrame' object has no attribute 'append'",
     "output_type": "error",
     "traceback": [
      "\u001b[1;31m---------------------------------------------------------------------------\u001b[0m",
      "\u001b[1;31mAttributeError\u001b[0m                            Traceback (most recent call last)",
      "Cell \u001b[1;32mIn[39], line 1\u001b[0m\n\u001b[1;32m----> 1\u001b[0m \u001b[43mmerged_df\u001b[49m\u001b[38;5;241;43m.\u001b[39;49m\u001b[43mappend\u001b[49m(old_data)\n",
      "File \u001b[1;32m~\\anaconda3\\lib\\site-packages\\pandas\\core\\generic.py:6204\u001b[0m, in \u001b[0;36mNDFrame.__getattr__\u001b[1;34m(self, name)\u001b[0m\n\u001b[0;32m   6197\u001b[0m \u001b[38;5;28;01mif\u001b[39;00m (\n\u001b[0;32m   6198\u001b[0m     name \u001b[38;5;129;01mnot\u001b[39;00m \u001b[38;5;129;01min\u001b[39;00m \u001b[38;5;28mself\u001b[39m\u001b[38;5;241m.\u001b[39m_internal_names_set\n\u001b[0;32m   6199\u001b[0m     \u001b[38;5;129;01mand\u001b[39;00m name \u001b[38;5;129;01mnot\u001b[39;00m \u001b[38;5;129;01min\u001b[39;00m \u001b[38;5;28mself\u001b[39m\u001b[38;5;241m.\u001b[39m_metadata\n\u001b[0;32m   6200\u001b[0m     \u001b[38;5;129;01mand\u001b[39;00m name \u001b[38;5;129;01mnot\u001b[39;00m \u001b[38;5;129;01min\u001b[39;00m \u001b[38;5;28mself\u001b[39m\u001b[38;5;241m.\u001b[39m_accessors\n\u001b[0;32m   6201\u001b[0m     \u001b[38;5;129;01mand\u001b[39;00m \u001b[38;5;28mself\u001b[39m\u001b[38;5;241m.\u001b[39m_info_axis\u001b[38;5;241m.\u001b[39m_can_hold_identifiers_and_holds_name(name)\n\u001b[0;32m   6202\u001b[0m ):\n\u001b[0;32m   6203\u001b[0m     \u001b[38;5;28;01mreturn\u001b[39;00m \u001b[38;5;28mself\u001b[39m[name]\n\u001b[1;32m-> 6204\u001b[0m \u001b[38;5;28;01mreturn\u001b[39;00m \u001b[38;5;28;43mobject\u001b[39;49m\u001b[38;5;241;43m.\u001b[39;49m\u001b[38;5;21;43m__getattribute__\u001b[39;49m\u001b[43m(\u001b[49m\u001b[38;5;28;43mself\u001b[39;49m\u001b[43m,\u001b[49m\u001b[43m \u001b[49m\u001b[43mname\u001b[49m\u001b[43m)\u001b[49m\n",
      "\u001b[1;31mAttributeError\u001b[0m: 'DataFrame' object has no attribute 'append'"
     ]
    }
   ],
   "source": [
    "merged_df.append(old_data)"
   ]
  },
  {
   "cell_type": "code",
   "execution_count": 42,
   "id": "bd015a30-1bfa-462d-ae6a-cc86091c3912",
   "metadata": {},
   "outputs": [],
   "source": [
    "df1 = pd.concat([old_data,merged_df], ignore_index=True)\n"
   ]
  },
  {
   "cell_type": "code",
   "execution_count": 48,
   "id": "389c9d4f-40e3-4fe6-a392-c4b4cfadcb07",
   "metadata": {},
   "outputs": [
    {
     "data": {
      "text/plain": [
       "(391, 18)"
      ]
     },
     "execution_count": 48,
     "metadata": {},
     "output_type": "execute_result"
    }
   ],
   "source": [
    "old_data.drop_duplicates().shape"
   ]
  },
  {
   "cell_type": "code",
   "execution_count": 28,
   "id": "b209e7c3-ba4c-471f-8fb1-c3628fda0483",
   "metadata": {},
   "outputs": [],
   "source": [
    "data = pd.read_csv('../jobs.csv')"
   ]
  },
  {
   "cell_type": "code",
   "execution_count": 30,
   "id": "3da1f786-f29d-463e-a4de-bbe3f7bab3f6",
   "metadata": {},
   "outputs": [
    {
     "data": {
      "text/plain": [
       "0      nl\n",
       "1      nl\n",
       "2      nl\n",
       "3      nl\n",
       "4      nl\n",
       "       ..\n",
       "389    en\n",
       "390    nl\n",
       "391    nl\n",
       "392    nl\n",
       "393    nl\n",
       "Name: description, Length: 394, dtype: object"
      ]
     },
     "execution_count": 30,
     "metadata": {},
     "output_type": "execute_result"
    }
   ],
   "source": [
    "data['description'].apply(lambda x: detect_lang(x))"
   ]
  },
  {
   "cell_type": "code",
   "execution_count": null,
   "id": "08292b95-0b1f-48ec-97c6-69af51929a9f",
   "metadata": {},
   "outputs": [],
   "source": []
  },
  {
   "cell_type": "code",
   "execution_count": null,
   "id": "599f411d-a116-425e-801d-064ae33379b0",
   "metadata": {},
   "outputs": [],
   "source": []
  }
 ],
 "metadata": {
  "kernelspec": {
   "display_name": "Python 3 (ipykernel)",
   "language": "python",
   "name": "python3"
  },
  "language_info": {
   "codemirror_mode": {
    "name": "ipython",
    "version": 3
   },
   "file_extension": ".py",
   "mimetype": "text/x-python",
   "name": "python",
   "nbconvert_exporter": "python",
   "pygments_lexer": "ipython3",
   "version": "3.10.9"
  }
 },
 "nbformat": 4,
 "nbformat_minor": 5
}
